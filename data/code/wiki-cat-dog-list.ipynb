{
 "cells": [
  {
   "cell_type": "code",
   "execution_count": 15,
   "metadata": {},
   "outputs": [],
   "source": [
    "import pandas as pd\n",
    "from xml.dom.minidom import parse\n",
    "from xml.dom.minidom import getDOMImplementation\n",
    "\n",
    "dom = parse('List_of_dog_breeds.html')\n",
    "\n",
    "table = dom.getElementsByTagName('table')[0]\n",
    "\n",
    "table_body = table.getElementsByTagName('tbody')[0]\n",
    "\n",
    "trs = table_body.getElementsByTagName('tr')\n",
    "\n",
    "dogTable = pd.DataFrame(columns=['name','image'])\n",
    "\n",
    "for tr in trs[1:-1]:\n",
    "    tds = tr.getElementsByTagName('td')[0].childNodes\n",
    "    for td in tds:\n",
    "        if td.nodeName == 'a':\n",
    "            name = td.childNodes[0].nodeValue\n",
    "    \n",
    "    # get img strings\n",
    "    imgs = (tr.getElementsByTagName('td')[-1].childNodes)\n",
    "    if imgs[0].nodeName == 'a':\n",
    "        img = imgs[0].getElementsByTagName('img')[0].attributes.items()[5][1]\n",
    "        img_str = \"https:\" + img.split(\", \")[-1].split(\" \")[0]\n",
    "    else:\n",
    "        # no image \n",
    "        img_str = \"https://user-images.githubusercontent.com/24848110/33519396-7e56363c-d79d-11e7-969b-09782f5ccbab.png\"\n",
    "    \n",
    "    dogTable = dogTable.append({'name': name, 'image':img_str}, ignore_index=True)\n",
    "dogTable.to_csv('dogs.csv')"
   ]
  },
  {
   "cell_type": "code",
   "execution_count": 20,
   "metadata": {},
   "outputs": [],
   "source": [
    "import pandas as pd\n",
    "from xml.dom.minidom import parse\n",
    "from xml.dom.minidom import getDOMImplementation\n",
    "\n",
    "dom = parse('List_of_cat_breeds.html')\n",
    "\n",
    "table = dom.getElementsByTagName('table')[1]\n",
    "\n",
    "table_body = table.getElementsByTagName('tbody')[0]\n",
    "\n",
    "trs = table_body.getElementsByTagName('tr')\n",
    "\n",
    "catTable = pd.DataFrame(columns=['name','image'])\n",
    "\n",
    "\n",
    "cats = list()\n",
    "for tr in trs[1:-1]:\n",
    "    th = tr.getElementsByTagName('th')[0]\n",
    "    a = th.childNodes[0]\n",
    "    if a.nodeName == 'a':\n",
    "        name = a.childNodes[0].nodeValue\n",
    "    \n",
    "    # get img strings\n",
    "    td = tr.getElementsByTagName('td')[-1]\n",
    "    if td.childNodes[0].nodeName != \"div\":\n",
    "        # no image \n",
    "        img_str = \"https://user-images.githubusercontent.com/24848110/33519396-7e56363c-d79d-11e7-969b-09782f5ccbab.png\"\n",
    "    else:\n",
    "        imgs = tr.getElementsByTagName('td')[-1].childNodes[0].childNodes[0].childNodes[0]\n",
    "        if imgs.nodeName == 'a':\n",
    "            img = imgs.getElementsByTagName('img')[0].attributes.items()[5][1]\n",
    "            img_str = \"https:\" + img.split(\", \")[-1].split(\" \")[0]\n",
    "\n",
    "    catTable = catTable.append({'name': name, 'image':img_str}, ignore_index=True)\n",
    "catTable.to_csv('cats.csv')\n"
   ]
  },
  {
   "cell_type": "code",
   "execution_count": null,
   "metadata": {},
   "outputs": [],
   "source": []
  }
 ],
 "metadata": {
  "kernelspec": {
   "display_name": "Python 3",
   "language": "python",
   "name": "python3"
  },
  "language_info": {
   "codemirror_mode": {
    "name": "ipython",
    "version": 3
   },
   "file_extension": ".py",
   "mimetype": "text/x-python",
   "name": "python",
   "nbconvert_exporter": "python",
   "pygments_lexer": "ipython3",
   "version": "3.6.8"
  }
 },
 "nbformat": 4,
 "nbformat_minor": 2
}
